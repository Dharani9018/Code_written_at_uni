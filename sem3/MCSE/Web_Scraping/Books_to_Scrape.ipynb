{
 "cells": [
  {
   "cell_type": "markdown",
   "id": "9bc970b2-9b94-4868-9e0b-65350cf05f84",
   "metadata": {},
   "source": [
    "# 2.Scarping Books to Scrape."
   ]
  },
  {
   "cell_type": "code",
   "execution_count": 32,
   "id": "8316aeb4-cca8-4a3e-b631-5fc090a2a3a8",
   "metadata": {},
   "outputs": [],
   "source": [
    "from bs4 import BeautifulSoup as bs\n",
    "from urllib.request import Request, urlopen\n",
    "url = \"http://books.toscrape.com/\"\n",
    "page = urlopen(url)\n",
    "soup = bs(page, \"html.parser\")"
   ]
  },
  {
   "cell_type": "markdown",
   "id": "de478733-748c-4b0e-bb6e-af8fc21e37f5",
   "metadata": {},
   "source": [
    "## Book titles:"
   ]
  },
  {
   "cell_type": "code",
   "execution_count": 28,
   "id": "7c270644-631f-46de-b64c-57da6575cd5c",
   "metadata": {},
   "outputs": [
    {
     "name": "stdout",
     "output_type": "stream",
     "text": [
      "A Light in the Attic\n",
      "Tipping the Velvet\n",
      "Soumission\n",
      "Sharp Objects\n",
      "Sapiens: A Brief History of Humankind\n",
      "The Requiem Red\n",
      "The Dirty Little Secrets of Getting Your Dream Job\n",
      "The Coming Woman: A Novel Based on the Life of the Infamous Feminist, Victoria Woodhull\n",
      "The Boys in the Boat: Nine Americans and Their Epic Quest for Gold at the 1936 Berlin Olympics\n",
      "The Black Maria\n",
      "Starving Hearts (Triangular Trade Trilogy, #1)\n",
      "Shakespeare's Sonnets\n",
      "Set Me Free\n",
      "Scott Pilgrim's Precious Little Life (Scott Pilgrim #1)\n",
      "Rip it Up and Start Again\n",
      "Our Band Could Be Your Life: Scenes from the American Indie Underground, 1981-1991\n",
      "Olio\n",
      "Mesaerion: The Best Science Fiction Stories 1800-1849\n",
      "Libertarianism for Beginners\n",
      "It's Only the Himalayas\n"
     ]
    }
   ],
   "source": [
    "# Find all book containers\n",
    "books = soup.find_all(\"article\", class_=\"product_pod\")\n",
    "# Extract titles\n",
    "titles = [book.h3.a[\"title\"] for book in books]\n",
    "\n",
    "for t in titles:\n",
    "    print(t)"
   ]
  },
  {
   "cell_type": "markdown",
   "id": "9bb5fd49-9ebb-4d2d-b3dc-48b20ba25217",
   "metadata": {},
   "source": [
    "## prices:"
   ]
  },
  {
   "cell_type": "code",
   "execution_count": 29,
   "id": "40c47679-7193-4545-aefb-e55485eb0f9c",
   "metadata": {},
   "outputs": [
    {
     "name": "stdout",
     "output_type": "stream",
     "text": [
      "A Light in the Attic — £51.77\n",
      "Tipping the Velvet — £53.74\n",
      "Soumission — £50.10\n",
      "Sharp Objects — £47.82\n",
      "Sapiens: A Brief History of Humankind — £54.23\n",
      "The Requiem Red — £22.65\n",
      "The Dirty Little Secrets of Getting Your Dream Job — £33.34\n",
      "The Coming Woman: A Novel Based on the Life of the Infamous Feminist, Victoria Woodhull — £17.93\n",
      "The Boys in the Boat: Nine Americans and Their Epic Quest for Gold at the 1936 Berlin Olympics — £22.60\n",
      "The Black Maria — £52.15\n",
      "Starving Hearts (Triangular Trade Trilogy, #1) — £13.99\n",
      "Shakespeare's Sonnets — £20.66\n",
      "Set Me Free — £17.46\n",
      "Scott Pilgrim's Precious Little Life (Scott Pilgrim #1) — £52.29\n",
      "Rip it Up and Start Again — £35.02\n",
      "Our Band Could Be Your Life: Scenes from the American Indie Underground, 1981-1991 — £57.25\n",
      "Olio — £23.88\n",
      "Mesaerion: The Best Science Fiction Stories 1800-1849 — £37.59\n",
      "Libertarianism for Beginners — £51.33\n",
      "It's Only the Himalayas — £45.17\n"
     ]
    }
   ],
   "source": [
    "for book in books:\n",
    "    title = book.h3.a[\"title\"]\n",
    "    price_tag = book.find(\"p\", class_=\"price_color\")\n",
    "    price = book.find(\"p\", class_=\"price_color\").get_text(strip=True)\n",
    "    print(f\"{title} — {price}\")"
   ]
  },
  {
   "cell_type": "markdown",
   "id": "2f5a64b0-3f01-43ae-9c01-abcd994d6893",
   "metadata": {},
   "source": [
    "## Availability: "
   ]
  },
  {
   "cell_type": "code",
   "execution_count": 30,
   "id": "b5fb9786-404f-4c15-82b2-40f384b67621",
   "metadata": {},
   "outputs": [
    {
     "name": "stdout",
     "output_type": "stream",
     "text": [
      "A Light in the Attic  — In stock\n",
      "Tipping the Velvet  — In stock\n",
      "Soumission  — In stock\n",
      "Sharp Objects  — In stock\n",
      "Sapiens: A Brief History of Humankind  — In stock\n",
      "The Requiem Red  — In stock\n",
      "The Dirty Little Secrets of Getting Your Dream Job  — In stock\n",
      "The Coming Woman: A Novel Based on the Life of the Infamous Feminist, Victoria Woodhull  — In stock\n",
      "The Boys in the Boat: Nine Americans and Their Epic Quest for Gold at the 1936 Berlin Olympics  — In stock\n",
      "The Black Maria  — In stock\n",
      "Starving Hearts (Triangular Trade Trilogy, #1)  — In stock\n",
      "Shakespeare's Sonnets  — In stock\n",
      "Set Me Free  — In stock\n",
      "Scott Pilgrim's Precious Little Life (Scott Pilgrim #1)  — In stock\n",
      "Rip it Up and Start Again  — In stock\n",
      "Our Band Could Be Your Life: Scenes from the American Indie Underground, 1981-1991  — In stock\n",
      "Olio  — In stock\n",
      "Mesaerion: The Best Science Fiction Stories 1800-1849  — In stock\n",
      "Libertarianism for Beginners  — In stock\n",
      "It's Only the Himalayas  — In stock\n"
     ]
    }
   ],
   "source": [
    "for book in books:\n",
    "    title = book.h3.a[\"title\"]\n",
    "    avail_tag = book.find(\"p\", class_=\"instock availability\")\n",
    "    availability = book.find(\"p\", class_=\"instock availability\").get_text(strip=True)\n",
    "    print(f\"{title}  — {availability}\")"
   ]
  },
  {
   "cell_type": "markdown",
   "id": "6892b208-4ac5-4479-b936-5e4f4f3543be",
   "metadata": {},
   "source": [
    "## Ratings"
   ]
  },
  {
   "cell_type": "code",
   "execution_count": 31,
   "id": "73713bfb-2f43-455f-bacc-2f984e5d03a1",
   "metadata": {},
   "outputs": [
    {
     "name": "stdout",
     "output_type": "stream",
     "text": [
      "A Light in the Attic  — Three\n",
      "Tipping the Velvet  — One\n",
      "Soumission  — One\n",
      "Sharp Objects  — Four\n",
      "Sapiens: A Brief History of Humankind  — Five\n",
      "The Requiem Red  — One\n",
      "The Dirty Little Secrets of Getting Your Dream Job  — Four\n",
      "The Coming Woman: A Novel Based on the Life of the Infamous Feminist, Victoria Woodhull  — Three\n",
      "The Boys in the Boat: Nine Americans and Their Epic Quest for Gold at the 1936 Berlin Olympics  — Four\n",
      "The Black Maria  — One\n",
      "Starving Hearts (Triangular Trade Trilogy, #1)  — Two\n",
      "Shakespeare's Sonnets  — Four\n",
      "Set Me Free  — Five\n",
      "Scott Pilgrim's Precious Little Life (Scott Pilgrim #1)  — Five\n",
      "Rip it Up and Start Again  — Five\n",
      "Our Band Could Be Your Life: Scenes from the American Indie Underground, 1981-1991  — Three\n",
      "Olio  — One\n",
      "Mesaerion: The Best Science Fiction Stories 1800-1849  — One\n",
      "Libertarianism for Beginners  — Two\n",
      "It's Only the Himalayas  — Two\n"
     ]
    }
   ],
   "source": [
    "for book in books:\n",
    "    title = book.h3.a[\"title\"]\n",
    "    rating_tag = book.find(\"p\", class_=\"star-rating\")\n",
    "    rating = rating_tag[\"class\"][1] \n",
    "    print(f\"{title}  — {rating}\")\n",
    "    "
   ]
  },
  {
   "cell_type": "markdown",
   "id": "07df4d82-6ef8-432e-8fe3-a9e73338bf68",
   "metadata": {},
   "source": [
    "## Handle missing prices/ratings"
   ]
  },
  {
   "cell_type": "code",
   "execution_count": 39,
   "id": "ebd5b07e-2635-4f80-b254-1d8e208fdf4c",
   "metadata": {},
   "outputs": [
    {
     "name": "stdout",
     "output_type": "stream",
     "text": [
      "A Light in the Attic — £51.77 — In stock — Three stars\n",
      "Tipping the Velvet — £53.74 — In stock — One stars\n",
      "Soumission — £50.10 — In stock — One stars\n",
      "Sharp Objects — £47.82 — In stock — Four stars\n",
      "Sapiens: A Brief History of Humankind — £54.23 — In stock — Five stars\n",
      "The Requiem Red — £22.65 — In stock — One stars\n",
      "The Dirty Little Secrets of Getting Your Dream Job — £33.34 — In stock — Four stars\n",
      "The Coming Woman: A Novel Based on the Life of the Infamous Feminist, Victoria Woodhull — £17.93 — In stock — Three stars\n",
      "The Boys in the Boat: Nine Americans and Their Epic Quest for Gold at the 1936 Berlin Olympics — £22.60 — In stock — Four stars\n",
      "The Black Maria — £52.15 — In stock — One stars\n",
      "Starving Hearts (Triangular Trade Trilogy, #1) — £13.99 — In stock — Two stars\n",
      "Shakespeare's Sonnets — £20.66 — In stock — Four stars\n",
      "Set Me Free — £17.46 — In stock — Five stars\n",
      "Scott Pilgrim's Precious Little Life (Scott Pilgrim #1) — £52.29 — In stock — Five stars\n",
      "Rip it Up and Start Again — £35.02 — In stock — Five stars\n",
      "Our Band Could Be Your Life: Scenes from the American Indie Underground, 1981-1991 — £57.25 — In stock — Three stars\n",
      "Olio — £23.88 — In stock — One stars\n",
      "Mesaerion: The Best Science Fiction Stories 1800-1849 — £37.59 — In stock — One stars\n",
      "Libertarianism for Beginners — £51.33 — In stock — Two stars\n",
      "It's Only the Himalayas — £45.17 — In stock — Two stars\n"
     ]
    }
   ],
   "source": [
    "for book in books:\n",
    "    title = book.h3.a[\"title\"]\n",
    "\n",
    "    price_tag = book.find(\"p\", class_=\"price_color\")\n",
    "    price = price_tag.get_text(strip=True) if price_tag else \"N/A\"\n",
    "\n",
    "    avail_tag = book.find(\"p\", class_=\"instock availability\")\n",
    "    availability = avail_tag.get_text(strip=True) if avail_tag else \"N/A\"\n",
    "\n",
    "    rating_tag = book.find(\"p\", class_=\"star-rating\")\n",
    "    rating = rating_tag[\"class\"][1] if rating_tag and len(rating_tag[\"class\"]) > 1 else \"N/A\"\n",
    "\n",
    "    print(f\"{title} — {price} — {availability} — {rating} stars\")\n",
    "\n",
    "    # the website is clean, nothing is missing"
   ]
  },
  {
   "cell_type": "markdown",
   "id": "0b38c02f-b52b-4f71-a80f-61f2bcfb97e2",
   "metadata": {},
   "source": [
    "## compute average price"
   ]
  },
  {
   "cell_type": "code",
   "execution_count": 40,
   "id": "10ae5206-1724-4c19-bba5-581d60cc191b",
   "metadata": {},
   "outputs": [
    {
     "name": "stdout",
     "output_type": "stream",
     "text": [
      "Average Price: £38.05\n"
     ]
    }
   ],
   "source": [
    "total_price = 0\n",
    "count = 0\n",
    "\n",
    "for book in books:\n",
    "    price_tag = book.find(\"p\", class_=\"price_color\")\n",
    "    if price_tag:\n",
    "        price_text = price_tag.get_text(strip=True) \n",
    "        price = float(price_text.lstrip(\"£\"))        \n",
    "        total_price += price\n",
    "        count += 1\n",
    "\n",
    "average_price = total_price / count if count else 0\n",
    "print(f\"Average Price: £{average_price:.2f}\")\n"
   ]
  },
  {
   "cell_type": "markdown",
   "id": "45251f46-dfec-462f-971e-8999f73808f8",
   "metadata": {},
   "source": [
    "## Extracting details into a list"
   ]
  },
  {
   "cell_type": "code",
   "execution_count": 49,
   "id": "4eb70497-7158-4fd1-aff0-fb7e01bed90b",
   "metadata": {},
   "outputs": [],
   "source": [
    "data = []\n",
    "for book in books:\n",
    "    title = book.h3.a[\"title\"]\n",
    "\n",
    "    price = book.find(\"p\", class_=\"price_color\").get_text(strip=True)\n",
    "\n",
    "    availability = book.find(\"p\", class_=\"instock availability\").get_text(strip=True)\n",
    "\n",
    "    rating_tag = book.find(\"p\", class_=\"star-rating\")\n",
    "    rating_classes = rating_tag.get(\"class\")\n",
    "    rating = [r for r in rating_classes if r != \"star-rating\"][0]  # e.g. \"Three\"\n",
    "\n",
    "    data.append([title, price, availability, rating])"
   ]
  },
  {
   "cell_type": "markdown",
   "id": "52f4d17d-aabb-4fd1-8331-3374f1ee0820",
   "metadata": {},
   "source": [
    "## Storing the scraped content in a CSV file in a clean, columnar format."
   ]
  },
  {
   "cell_type": "code",
   "execution_count": 42,
   "id": "1aac0543-96c0-4635-87e8-b819b681bca1",
   "metadata": {},
   "outputs": [
    {
     "name": "stdout",
     "output_type": "stream",
     "text": [
      "Scraped data saved to books.csv using pandas\n"
     ]
    }
   ],
   "source": [
    "import pandas as pd\n",
    "\n",
    "df = pd.DataFrame(data, columns=[\"Title\", \"Price\", \"Availability\", \"Rating\"])\n",
    "df.to_csv(\"books.csv\", index=False, encoding=\"utf-8\")\n",
    "\n",
    "print(\"Scraped data saved to books.csv using pandas\")\n"
   ]
  },
  {
   "cell_type": "markdown",
   "id": "41a30270-9c70-4bd0-8766-60c7117cfec5",
   "metadata": {},
   "source": [
    "##  Conduct descriptive statistical analysis on the curated data"
   ]
  },
  {
   "cell_type": "code",
   "execution_count": 43,
   "id": "c865d047-fe62-4d30-8c12-98d52cdfe669",
   "metadata": {},
   "outputs": [
    {
     "name": "stdout",
     "output_type": "stream",
     "text": [
      "\n",
      "--- Price Statistics ---\n",
      "count    20.000000\n",
      "mean     38.048500\n",
      "std      15.135231\n",
      "min      13.990000\n",
      "25%      22.637500\n",
      "50%      41.380000\n",
      "75%      51.865000\n",
      "max      57.250000\n",
      "Name: Price, dtype: float64\n",
      "\n",
      "--- Rating Statistics ---\n",
      "count    20.000000\n",
      "mean      2.850000\n",
      "std       1.565248\n",
      "min       1.000000\n",
      "25%       1.000000\n",
      "50%       3.000000\n",
      "75%       4.000000\n",
      "max       5.000000\n",
      "Name: Rating, dtype: float64\n",
      "\n",
      "--- Availability Counts ---\n",
      "Availability\n",
      "In stock    20\n",
      "Name: count, dtype: int64\n",
      "\n",
      "--- Average Price by Rating ---\n",
      "Rating\n",
      "1    40.018333\n",
      "2    36.830000\n",
      "3    42.316667\n",
      "4    31.105000\n",
      "5    39.750000\n",
      "Name: Price, dtype: float64\n"
     ]
    }
   ],
   "source": [
    "df = pd.read_csv(\"books.csv\")\n",
    "\n",
    "# Clean Price column (remove £ and convert to float)\n",
    "df[\"Price\"] = df[\"Price\"].str.replace(\"£\", \"\").astype(float)\n",
    "\n",
    "# Convert Rating to numeric scale\n",
    "rating_map = {\"One\": 1, \"Two\": 2, \"Three\": 3, \"Four\": 4, \"Five\": 5}\n",
    "df[\"Rating\"] = df[\"Rating\"].map(rating_map)\n",
    "\n",
    "# Basic descriptive statistics\n",
    "print(\"\\n--- Price Statistics ---\")\n",
    "print(df[\"Price\"].describe())\n",
    "\n",
    "print(\"\\n--- Rating Statistics ---\")\n",
    "print(df[\"Rating\"].describe())\n",
    "\n",
    "print(\"\\n--- Availability Counts ---\")\n",
    "print(df[\"Availability\"].value_counts())\n",
    "\n",
    "# Example: Average price by rating\n",
    "print(\"\\n--- Average Price by Rating ---\")\n",
    "print(df.groupby(\"Rating\")[\"Price\"].mean())"
   ]
  },
  {
   "cell_type": "markdown",
   "id": "dcdef01d-8f21-408e-a0c4-6dc226ef9c71",
   "metadata": {},
   "source": [
    "## Histogram: Price Distribution (Skewness detection)"
   ]
  },
  {
   "cell_type": "code",
   "execution_count": 45,
   "id": "bb13dda3-4be8-4835-b31b-c197eeae47a9",
   "metadata": {},
   "outputs": [
    {
     "data": {
      "image/png": "[encoded data removed]",
      "text/plain": [
       "<Figure size 640x480 with 1 Axes>"
      ]
     },
     "metadata": {},
     "output_type": "display_data"
    }
   ],
   "source": [
    "import matplotlib.pyplot as plt\n",
    "plt.hist(df[\"Price\"], bins=10, edgecolor=\"black\", color=\"skyblue\")\n",
    "plt.xlabel(\"Price (£)\")\n",
    "plt.ylabel(\"Frequency\")\n",
    "plt.title(\"Histogram of Book Prices\")\n",
    "plt.show()"
   ]
  },
  {
   "cell_type": "markdown",
   "id": "c0a6595a-53ea-44c6-af17-f405e13d8a99",
   "metadata": {},
   "source": [
    "## Boxplot: Outlier detection"
   ]
  },
  {
   "cell_type": "code",
   "execution_count": 46,
   "id": "0f8fb1c4-1fe8-485e-bd37-241552595aee",
   "metadata": {},
   "outputs": [
    {
     "data": {
      "image/png": "[encoded data removed]",
      "text/plain": [
       "<Figure size 640x480 with 1 Axes>"
      ]
     },
     "metadata": {},
     "output_type": "display_data"
    }
   ],
   "source": [
    "plt.boxplot(df[\"Price\"], vert=False, patch_artist=True,\n",
    "            boxprops=dict(facecolor=\"lightgreen\"))\n",
    "plt.xlabel(\"Price (£)\")\n",
    "plt.title(\"Boxplot of Book Prices (Outliers Detection)\")\n",
    "plt.show()"
   ]
  },
  {
   "cell_type": "markdown",
   "id": "1c259462-0b05-46c9-93f9-9d440d23908e",
   "metadata": {},
   "source": [
    "## Bar plot: Average Price by Rating"
   ]
  },
  {
   "cell_type": "code",
   "execution_count": 47,
   "id": "db23eacf-fc71-45be-99e6-a5b38b612133",
   "metadata": {},
   "outputs": [
    {
     "data": {
      "image/png": "[encoded data removed]",
      "text/plain": [
       "<Figure size 640x480 with 1 Axes>"
      ]
     },
     "metadata": {},
     "output_type": "display_data"
    }
   ],
   "source": [
    "avg_price_by_rating = df.groupby(\"Rating\")[\"Price\"].mean()\n",
    "avg_price_by_rating.plot(kind=\"bar\", color=\"orange\", edgecolor=\"black\")\n",
    "plt.xlabel(\"Rating (Stars)\")\n",
    "plt.ylabel(\"Average Price (£)\")\n",
    "plt.title(\"Average Price by Rating\")\n",
    "plt.show()"
   ]
  },
  {
   "cell_type": "markdown",
   "id": "a4aadd4d-d69f-4d88-b7b6-f6799efc479c",
   "metadata": {},
   "source": [
    "## Bar Plot: Count of Ratings"
   ]
  },
  {
   "cell_type": "code",
   "execution_count": 48,
   "id": "14b122bd-903f-49bb-a819-e145e38587e1",
   "metadata": {},
   "outputs": [
    {
     "data": {
      "image/png": "[encoded data removed]",
      "text/plain": [
       "<Figure size 640x480 with 1 Axes>"
      ]
     },
     "metadata": {},
     "output_type": "display_data"
    }
   ],
   "source": [
    "rating_counts = df[\"Rating\"].value_counts().sort_index()\n",
    "rating_counts.plot(kind=\"bar\", color=\"purple\", edgecolor=\"black\")\n",
    "plt.xlabel(\"Rating (Stars)\")\n",
    "plt.ylabel(\"Number of Books\")\n",
    "plt.title(\"Distribution of Ratings\")\n",
    "plt.show()"
   ]
  },
  {
   "cell_type": "code",
   "execution_count": null,
   "id": "2bb9e79d-b808-466e-aac3-5260d6a41c19",
   "metadata": {},
   "outputs": [],
   "source": []
  }
 ],
 "metadata": {
  "kernelspec": {
   "display_name": "Python 3 (ipykernel)",
   "language": "python",
   "name": "python3"
  },
  "language_info": {
   "codemirror_mode": {
    "name": "ipython",
    "version": 3
   },
   "file_extension": ".py",
   "mimetype": "text/x-python",
   "name": "python",
   "nbconvert_exporter": "python",
   "pygments_lexer": "ipython3",
   "version": "3.13.3"
  }
 },
 "nbformat": 4,
 "nbformat_minor": 5
}
